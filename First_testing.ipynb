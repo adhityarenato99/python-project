{
  "nbformat": 4,
  "nbformat_minor": 0,
  "metadata": {
    "colab": {
      "provenance": [],
      "authorship_tag": "ABX9TyNemm36Y+ZT4IpjkeqMg4Ia",
      "include_colab_link": true
    },
    "kernelspec": {
      "name": "python3",
      "display_name": "Python 3"
    },
    "language_info": {
      "name": "python"
    }
  },
  "cells": [
    {
      "cell_type": "markdown",
      "metadata": {
        "id": "view-in-github",
        "colab_type": "text"
      },
      "source": [
        "<a href=\"https://colab.research.google.com/github/adhityarenato99/python-project/blob/main/First_testing.ipynb\" target=\"_parent\"><img src=\"https://colab.research.google.com/assets/colab-badge.svg\" alt=\"Open In Colab\"/></a>"
      ]
    },
    {
      "cell_type": "markdown",
      "source": [
        "# **Learning to Use Python Fast**"
      ],
      "metadata": {
        "id": "-81fmqo0KBH8"
      }
    },
    {
      "cell_type": "code",
      "execution_count": 1,
      "metadata": {
        "colab": {
          "base_uri": "https://localhost:8080/"
        },
        "id": "W27K-nmyGWE-",
        "outputId": "5d9a7442-52fd-4868-a858-040dcfeb744e"
      },
      "outputs": [
        {
          "output_type": "stream",
          "name": "stdout",
          "text": [
            "Only for testing\n"
          ]
        }
      ],
      "source": [
        "test = 'Only for testing'\n",
        "print(test)"
      ]
    },
    {
      "cell_type": "code",
      "source": [
        "# Open STUDENT-FILE\n",
        "student_file = open(\"student_records.txt\", \"w\")\n",
        "\n",
        "while True:\n",
        "\n",
        "    # Accept STUDENT-ID\n",
        "    student_id = input(\"Enter STUDENT-ID (or 0 to exit): \")\n",
        "\n",
        "    if student_id == \"0\":\n",
        "\n",
        "        student_file.close()\n",
        "        print(\"File closed.\")\n",
        "\n",
        "        break\n",
        "\n",
        "    # Accept STUDENT-NAME, COURSE-NAME, COURSE-FEE, FEES-PAID\n",
        "    student_name = input(\"Enter STUDENT-NAME: \")\n",
        "    course_name = input(\"Enter COURSE-NAME: \")\n",
        "    course_fee = input(\"Enter COURSE-FEE: \")\n",
        "    fees_paid = input(\"Enter FEES-PAID: \")\n",
        "\n",
        "    student_record = f\"{student_id}, {student_name}, {course_name}, {course_fee}, {fees_paid}\\n\"\n",
        "    student_file.write(student_record)\n"
      ],
      "metadata": {
        "colab": {
          "base_uri": "https://localhost:8080/"
        },
        "id": "ZiTNb9UXGoT8",
        "outputId": "38ca9a01-f4c2-4c62-ca1f-5172407e8975"
      },
      "execution_count": 2,
      "outputs": [
        {
          "output_type": "stream",
          "name": "stdout",
          "text": [
            "Enter STUDENT-ID (or 0 to exit): 1\n",
            "Enter STUDENT-NAME: Testing Only\n",
            "Enter COURSE-NAME: Python for Education Purpose\n",
            "Enter COURSE-FEE: 1.000\n",
            "Enter FEES-PAID: 2.000\n",
            "Enter STUDENT-ID (or 0 to exit): 0\n",
            "File closed.\n"
          ]
        }
      ]
    }
  ]
}